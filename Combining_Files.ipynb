{
 "cells": [
  {
   "cell_type": "code",
   "execution_count": 66,
   "metadata": {},
   "outputs": [],
   "source": [
    "import sqlite3\n",
    "import pandas as pd"
   ]
  },
  {
   "cell_type": "markdown",
   "metadata": {},
   "source": [
    "Hello! For Aneeza, Caegs, Rae, and Raymond, this is to combine all of the datafiles into one database. We have two tables in ```fires.db```."
   ]
  },
  {
   "cell_type": "markdown",
   "metadata": {},
   "source": [
    "# Filtering Down the US-Wildfires"
   ]
  },
  {
   "cell_type": "markdown",
   "metadata": {},
   "source": [
    "The columns that we are going to use are:\n",
    "* FOD_ID\n",
    "    * Global unique identifier.\n",
    "* DISCOVERY_DATE \n",
    "    * Date on which the fire was discovered or confirmed to exist. Note that this is in the Julian calendar.\n",
    "* DISCOVERY_TIME\n",
    "    * Time of day that the fire was discovered or confirmed to exist.\n",
    "* CONT_DOY\n",
    "    * Day of year on which the fire was declared contained or otherwise controlled. Note that this is in the Julian calendar.\n",
    "* CONT_TIME\n",
    "    * Time of day that the fire was declared contained or otherwise controlled (hhmm where hh=hour, mm=minutes).\n",
    "* FIRE_SIZE\n",
    "    * Estimate of acres within the final perimeter of the fire.\n",
    "* STATE\n",
    "    * Two-letter alphabetic code for the state in which the fire burned (or originated), based on the nominal designation in the fire report.\n",
    "\n"
   ]
  },
  {
   "cell_type": "code",
   "execution_count": null,
   "metadata": {},
   "outputs": [
    {
     "name": "stdout",
     "output_type": "stream",
     "text": [
      "Below is the table info for us_fires:\n",
      "(0, 'FOD_ID', 'INT', 0, None, 0)\n",
      "(1, 'DISCOVERY_DATE', 'REAL', 0, None, 0)\n",
      "(2, 'DISCOVERY_TIME', 'TEXT', 0, None, 0)\n",
      "(3, 'CONT_DATE', 'REAL', 0, None, 0)\n",
      "(4, 'CONT_TIME', 'TEXT', 0, None, 0)\n",
      "(5, 'FIRE_SIZE', 'REAL', 0, None, 0)\n",
      "(6, 'STATE', 'TEXT', 0, None, 0)\n"
     ]
    }
   ],
   "source": [
    "# Paths to databases\n",
    "source_db = '../mnt/data/public/us-wildfires/FPA_FOD_20170508.sqlite'\n",
    "\n",
    "# Connect to source and destination databases\n",
    "source_conn = sqlite3.connect(source_db)\n",
    "dest_conn = sqlite3.connect('fires.db')\n",
    "\n",
    "source_cursor = source_conn.cursor()\n",
    "dest_cursor = dest_conn.cursor()\n",
    "\n",
    "# Create table in destination database (modify as needed)\n",
    "create_table_query = \"\"\"\n",
    "CREATE TABLE IF NOT EXISTS us_fires (\n",
    "    FOD_ID INT UNIQUE,\n",
    "    DISCOVERY_DATE REAL,\n",
    "    DISCOVERY_TIME TEXT,\n",
    "    CONT_DATE REAL,\n",
    "    CONT_TIME TEXT,\n",
    "    FIRE_SIZE REAL,\n",
    "    STATE TEXT\n",
    ")\n",
    "\"\"\"\n",
    "dest_cursor.execute(create_table_query)\n",
    "\n",
    "# Copy data from source to destination\n",
    "query = \"\"\"\n",
    "SELECT FOD_ID, DISCOVERY_DATE, DISCOVERY_TIME, CONT_DATE, CONT_TIME, FIRE_SIZE, STATE\n",
    "FROM Fires\n",
    "\"\"\"\n",
    "\n",
    "source_cursor.execute(query)\n",
    "rows = source_cursor.fetchall()\n",
    "\n",
    "# Commit and close connections\n",
    "dest_conn.commit()\n",
    "source_conn.close()\n",
    "\n",
    "# Just for information\n",
    "print(\"Below is the table info for us_fires:\")\n",
    "for row in dest_cursor.execute('PRAGMA table_info(\"us_fires\")').fetchall():\n",
    "    print(row)\n",
    "    \n",
    "dest_conn.close()"
   ]
  },
  {
   "cell_type": "markdown",
   "metadata": {},
   "source": [
    "# Filtering Down the London Fire Brigade"
   ]
  },
  {
   "cell_type": "markdown",
   "metadata": {},
   "source": [
    "For the London Fire Brigade, there is the Incident data and the Mobilisation data. For the Incident data, we will be looking at the columns:\n",
    "* IncidentNumber\n",
    "* DateOfCall\n",
    "* IncidentGroup\t\n",
    "* StopCodeDescription\t\n",
    "* SpecialServiceType\n",
    "* Notional Cost (£)\n"
   ]
  },
  {
   "cell_type": "code",
   "execution_count": 68,
   "metadata": {},
   "outputs": [],
   "source": [
    "# Loading Incident Data Files\n",
    "\n",
    "# We will get only from 2009 to 2022\n",
    "incident_2009_2022 = '../mnt/data/public/lfb/LFB Incident data - Datastore - with notional cost and UPRN from January 2009.csv'\n",
    "incident_2009_2022 = pd.read_csv(incident_2009_2022, dtype={\"235138081\": str})\n",
    "features = ['235138081', '01 Jan 2009', 'Special Service', 'Special Service.1', 'RTC', '255']\n",
    "incident_2009_2022 = incident_2009_2022[features]\n",
    "incident_2009_2022.columns = ['IncidentNumber', 'DateOfCall', 'IncidentGroup', 'StopCodeDescription', 'SpecialServiceType', 'Notional Cost (£)']\n",
    "\n",
    "# Get only dates from 2023\n",
    "incident_2020_2023 = '../mnt/data/public/lfb/LFB Incident data from January 2020 to August 2023.xlsx'\n",
    "incident_2020_2023 = pd.read_excel(incident_2020_2023, usecols=['IncidentNumber', 'DateOfCall', 'IncidentGroup', 'StopCodeDescription', 'SpecialServiceType', 'Notional Cost (£)'])"
   ]
  },
  {
   "cell_type": "markdown",
   "metadata": {},
   "source": [
    "Further filter out data, and combine the two dataframes into one big dataframe."
   ]
  },
  {
   "cell_type": "code",
   "execution_count": 69,
   "metadata": {},
   "outputs": [],
   "source": [
    "# Create a new dataframe from incident_2020_2023 where it only has Fires from 2023\n",
    "filt_year = incident_2020_2023['DateOfCall'].dt.year == 2023\n",
    "incident_2023 = incident_2020_2023[filt_year]\n",
    "all_incidents = pd.concat([incident_2009_2022, incident_2023])\n",
    "\n",
    "# Convert DateOfCall to proper timestamp\n",
    "all_incidents[\"DateOfCall\"] = pd.to_datetime(all_incidents[\"DateOfCall\"], format=\"%d %b %Y\")\n"
   ]
  },
  {
   "cell_type": "markdown",
   "metadata": {},
   "source": [
    "For the Mobilisation data, we will be looking at the columns:\n",
    "* IncidentNumber\n",
    "* DateAndTimeMobilised\t\n",
    "* DateAndTimeMobile\t\n",
    "* DateAndTimeArrived\t\n",
    "* DateAndTimeLeft\n",
    "* DelayCode_Description"
   ]
  },
  {
   "cell_type": "code",
   "execution_count": 70,
   "metadata": {},
   "outputs": [],
   "source": [
    "# Loading Mobilisation Data Files\n",
    "all_mobilisation = '../mnt/data/public/lfb/mobilisation/LFB Mobilisation data from January 2009 to August 2023.csv'\n",
    "all_mobilisation = pd.read_csv(all_mobilisation, dtype={\"235138081\": str, '01/01/2009 00:23:55':str})\n",
    "\n",
    "# Cleaning the files\n",
    "features = [all_mobilisation.columns[i] for i in [0, 6, 7, 8, 12, 21]]\n",
    "all_mobilisation = all_mobilisation[features]\n",
    "all_mobilisation.columns = ['IncidentNumber', 'DateAndTimeMobilised', 'DateAndTimeMobile', 'DateAndTimeArrived', 'DateAndTimeLeft', 'DelayCode_Description']\n",
    "\n",
    "# Converting the datetime columns into an actual datetime format\n",
    "datetime_columns = [\"DateAndTimeMobilised\", \"DateAndTimeMobile\", \"DateAndTimeArrived\", \"DateAndTimeLeft\"]\n",
    "all_mobilisation[datetime_columns] = all_mobilisation[datetime_columns].apply(\n",
    "    pd.to_datetime, format=\"%d/%m/%Y %H:%M:%S\", errors=\"coerce\")"
   ]
  },
  {
   "cell_type": "code",
   "execution_count": null,
   "metadata": {},
   "outputs": [
    {
     "data": {
      "text/plain": [
       "2243558"
      ]
     },
     "execution_count": 71,
     "metadata": {},
     "output_type": "execute_result"
    }
   ],
   "source": [
    "# Converting the pandas dataframe to a SQL database\n",
    "conn = sqlite3.connect('london_fires.db')\n",
    "all_incidents.to_sql('london_incidents', conn, if_exists='replace', index=False)\n",
    "all_mobilisation.to_sql('london_mobilisation', conn, if_exists='replace', index=False)\n"
   ]
  },
  {
   "cell_type": "markdown",
   "metadata": {},
   "source": [
    "We will now join the ```london_incidents``` and ```london_mobilisation``` using the key-id of IncidentNumber."
   ]
  },
  {
   "cell_type": "code",
   "execution_count": null,
   "metadata": {},
   "outputs": [
    {
     "name": "stdout",
     "output_type": "stream",
     "text": [
      "Below is the table info for london_fires:\n"
     ]
    }
   ],
   "source": [
    "# Read the query and also save it into fires.db\n",
    "query = \"\"\"\n",
    "SELECT *\n",
    "FROM london_incidents\n",
    "JOIN london_mobilisation\n",
    "USING (IncidentNumber)\n",
    "\"\"\"\n",
    "\n",
    "london_fires = pd.read_sql(query, conn)\n"
   ]
  }
 ],
 "metadata": {
  "kernelspec": {
   "display_name": "Python 3",
   "language": "python",
   "name": "python3"
  },
  "language_info": {
   "codemirror_mode": {
    "name": "ipython",
    "version": 3
   },
   "file_extension": ".py",
   "mimetype": "text/x-python",
   "name": "python",
   "nbconvert_exporter": "python",
   "pygments_lexer": "ipython3",
   "version": "3.11.5"
  }
 },
 "nbformat": 4,
 "nbformat_minor": 2
}
