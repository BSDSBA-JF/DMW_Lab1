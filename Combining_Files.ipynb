{
 "cells": [
  {
   "cell_type": "code",
   "execution_count": 19,
   "metadata": {
    "execution": {
     "iopub.execute_input": "2025-02-22T14:13:18.823869Z",
     "iopub.status.busy": "2025-02-22T14:13:18.822380Z",
     "iopub.status.idle": "2025-02-22T14:13:18.830364Z",
     "shell.execute_reply": "2025-02-22T14:13:18.828681Z",
     "shell.execute_reply.started": "2025-02-22T14:13:18.823784Z"
    }
   },
   "outputs": [],
   "source": [
    "import sqlite3\n",
    "import pandas as pd"
   ]
  },
  {
   "cell_type": "markdown",
   "metadata": {},
   "source": [
    "Hello! For Aneeza, Caegs, Rae, and Raymond, this is to combine all of the datafiles into one database. We have two tables in ```fires.db```."
   ]
  },
  {
   "cell_type": "markdown",
   "metadata": {},
   "source": [
    "# Filtering Down the US-Wildfires"
   ]
  },
  {
   "cell_type": "markdown",
   "metadata": {},
   "source": [
    "The columns that we are going to use are:\n",
    "* FOD_ID\n",
    "    * Global unique identifier.\n",
    "* DISCOVERY_DATE \n",
    "    * Date on which the fire was discovered or confirmed to exist. Note that this is in the Julian calendar.\n",
    "* DISCOVERY_TIME\n",
    "    * Time of day that the fire was discovered or confirmed to exist.\n",
    "* CONT_DOY\n",
    "    * Day of year on which the fire was declared contained or otherwise controlled. Note that this is in the Julian calendar.\n",
    "* CONT_TIME\n",
    "    * Time of day that the fire was declared contained or otherwise controlled (hhmm where hh=hour, mm=minutes).\n",
    "* FIRE_SIZE\n",
    "    * Estimate of acres within the final perimeter of the fire.\n",
    "* STATE\n",
    "    * Two-letter alphabetic code for the state in which the fire burned (or originated), based on the nominal designation in the fire report.\n",
    "\n"
   ]
  },
  {
   "cell_type": "code",
   "execution_count": 3,
   "metadata": {
    "execution": {
     "iopub.execute_input": "2025-02-22T14:03:27.997405Z",
     "iopub.status.busy": "2025-02-22T14:03:27.995886Z",
     "iopub.status.idle": "2025-02-22T14:03:33.185925Z",
     "shell.execute_reply": "2025-02-22T14:03:33.184273Z",
     "shell.execute_reply.started": "2025-02-22T14:03:27.997338Z"
    }
   },
   "outputs": [
    {
     "data": {
      "text/html": [
       "<div>\n",
       "<style scoped>\n",
       "    .dataframe tbody tr th:only-of-type {\n",
       "        vertical-align: middle;\n",
       "    }\n",
       "\n",
       "    .dataframe tbody tr th {\n",
       "        vertical-align: top;\n",
       "    }\n",
       "\n",
       "    .dataframe thead th {\n",
       "        text-align: right;\n",
       "    }\n",
       "</style>\n",
       "<table border=\"1\" class=\"dataframe\">\n",
       "  <thead>\n",
       "    <tr style=\"text-align: right;\">\n",
       "      <th></th>\n",
       "      <th>FOD_ID</th>\n",
       "      <th>DISCOVERY_DATE</th>\n",
       "      <th>DISCOVERY_TIME</th>\n",
       "      <th>CONT_DATE</th>\n",
       "      <th>CONT_TIME</th>\n",
       "      <th>FIRE_SIZE</th>\n",
       "      <th>STATE</th>\n",
       "    </tr>\n",
       "  </thead>\n",
       "  <tbody>\n",
       "    <tr>\n",
       "      <th>0</th>\n",
       "      <td>1</td>\n",
       "      <td>2453403.5</td>\n",
       "      <td>1300</td>\n",
       "      <td>2453403.5</td>\n",
       "      <td>1730</td>\n",
       "      <td>0.10</td>\n",
       "      <td>CA</td>\n",
       "    </tr>\n",
       "    <tr>\n",
       "      <th>1</th>\n",
       "      <td>2</td>\n",
       "      <td>2453137.5</td>\n",
       "      <td>0845</td>\n",
       "      <td>2453137.5</td>\n",
       "      <td>1530</td>\n",
       "      <td>0.25</td>\n",
       "      <td>CA</td>\n",
       "    </tr>\n",
       "    <tr>\n",
       "      <th>2</th>\n",
       "      <td>3</td>\n",
       "      <td>2453156.5</td>\n",
       "      <td>1921</td>\n",
       "      <td>2453156.5</td>\n",
       "      <td>2024</td>\n",
       "      <td>0.10</td>\n",
       "      <td>CA</td>\n",
       "    </tr>\n",
       "    <tr>\n",
       "      <th>3</th>\n",
       "      <td>4</td>\n",
       "      <td>2453184.5</td>\n",
       "      <td>1600</td>\n",
       "      <td>2453189.5</td>\n",
       "      <td>1400</td>\n",
       "      <td>0.10</td>\n",
       "      <td>CA</td>\n",
       "    </tr>\n",
       "    <tr>\n",
       "      <th>4</th>\n",
       "      <td>5</td>\n",
       "      <td>2453184.5</td>\n",
       "      <td>1600</td>\n",
       "      <td>2453189.5</td>\n",
       "      <td>1200</td>\n",
       "      <td>0.10</td>\n",
       "      <td>CA</td>\n",
       "    </tr>\n",
       "  </tbody>\n",
       "</table>\n",
       "</div>"
      ],
      "text/plain": [
       "   FOD_ID  DISCOVERY_DATE DISCOVERY_TIME  CONT_DATE CONT_TIME  FIRE_SIZE STATE\n",
       "0       1       2453403.5           1300  2453403.5      1730       0.10    CA\n",
       "1       2       2453137.5           0845  2453137.5      1530       0.25    CA\n",
       "2       3       2453156.5           1921  2453156.5      2024       0.10    CA\n",
       "3       4       2453184.5           1600  2453189.5      1400       0.10    CA\n",
       "4       5       2453184.5           1600  2453189.5      1200       0.10    CA"
      ]
     },
     "execution_count": 3,
     "metadata": {},
     "output_type": "execute_result"
    }
   ],
   "source": [
    "# Connect to the US Wildfires database\n",
    "db_path = '/mnt/data/public/us-wildfires/FPA_FOD_20170508.sqlite'\n",
    "conn = sqlite3.connect(db_path)\n",
    "\n",
    "query = \"\"\"\n",
    "SELECT FOD_ID, DISCOVERY_DATE, DISCOVERY_TIME, CONT_DATE, CONT_TIME, FIRE_SIZE, STATE\n",
    "FROM Fires\n",
    "\"\"\"\n",
    "\n",
    "us_fires = pd.read_sql(query, conn)\n",
    "us_fires.head()\n"
   ]
  },
  {
   "cell_type": "markdown",
   "metadata": {},
   "source": [
    "# Filtering Down the London Fire Brigade"
   ]
  },
  {
   "cell_type": "markdown",
   "metadata": {},
   "source": [
    "For the London Fire Brigade, there is the Incident data and the Mobilisation data. For the Incident data, we will be looking at the columns:\n",
    "* IncidentNumber\n",
    "* DateOfCall\n",
    "* IncidentGroup\t\n",
    "* StopCodeDescription\t\n",
    "* SpecialServiceType\n",
    "* Notional Cost (£)\n"
   ]
  },
  {
   "cell_type": "code",
   "execution_count": 5,
   "metadata": {
    "execution": {
     "iopub.execute_input": "2025-02-22T14:04:00.623432Z",
     "iopub.status.busy": "2025-02-22T14:04:00.622456Z",
     "iopub.status.idle": "2025-02-22T14:06:20.366504Z",
     "shell.execute_reply": "2025-02-22T14:06:20.365542Z",
     "shell.execute_reply.started": "2025-02-22T14:04:00.623368Z"
    }
   },
   "outputs": [],
   "source": [
    "# Loading Incident Data Files\n",
    "\n",
    "# We will get only from 2009 to 2022\n",
    "incident_2009_2022 = '/mnt/data/public/lfb/LFB Incident data - Datastore - with notional cost and UPRN from January 2009.csv'\n",
    "incident_2009_2022 = pd.read_csv(incident_2009_2022, dtype={\"235138081\": str})\n",
    "features = ['235138081', '01 Jan 2009', 'Special Service', 'Special Service.1', 'RTC', '255']\n",
    "incident_2009_2022 = incident_2009_2022[features]\n",
    "incident_2009_2022.columns = ['IncidentNumber', 'DateOfCall', 'IncidentGroup', 'StopCodeDescription', 'SpecialServiceType', 'Notional Cost (£)']\n",
    "\n",
    "# Get only dates from 2023\n",
    "incident_2020_2023 = '/mnt/data/public/lfb/LFB Incident data from January 2020 to August 2023.xlsx'\n",
    "incident_2020_2023 = pd.read_excel(incident_2020_2023, usecols=['IncidentNumber', 'DateOfCall', 'IncidentGroup', 'StopCodeDescription', 'SpecialServiceType', 'Notional Cost (£)'])"
   ]
  },
  {
   "cell_type": "markdown",
   "metadata": {},
   "source": [
    "Further filter out data, and combine the two dataframes into one big dataframe."
   ]
  },
  {
   "cell_type": "code",
   "execution_count": 7,
   "metadata": {
    "execution": {
     "iopub.execute_input": "2025-02-22T14:08:09.420908Z",
     "iopub.status.busy": "2025-02-22T14:08:09.420210Z",
     "iopub.status.idle": "2025-02-22T14:08:09.819494Z",
     "shell.execute_reply": "2025-02-22T14:08:09.818650Z",
     "shell.execute_reply.started": "2025-02-22T14:08:09.420851Z"
    }
   },
   "outputs": [
    {
     "data": {
      "text/html": [
       "<div>\n",
       "<style scoped>\n",
       "    .dataframe tbody tr th:only-of-type {\n",
       "        vertical-align: middle;\n",
       "    }\n",
       "\n",
       "    .dataframe tbody tr th {\n",
       "        vertical-align: top;\n",
       "    }\n",
       "\n",
       "    .dataframe thead th {\n",
       "        text-align: right;\n",
       "    }\n",
       "</style>\n",
       "<table border=\"1\" class=\"dataframe\">\n",
       "  <thead>\n",
       "    <tr style=\"text-align: right;\">\n",
       "      <th></th>\n",
       "      <th>IncidentNumber</th>\n",
       "      <th>DateOfCall</th>\n",
       "      <th>IncidentGroup</th>\n",
       "      <th>StopCodeDescription</th>\n",
       "      <th>SpecialServiceType</th>\n",
       "      <th>Notional Cost (£)</th>\n",
       "    </tr>\n",
       "  </thead>\n",
       "  <tbody>\n",
       "    <tr>\n",
       "      <th>0</th>\n",
       "      <td>1091</td>\n",
       "      <td>2009-01-01</td>\n",
       "      <td>Special Service</td>\n",
       "      <td>Special Service</td>\n",
       "      <td>Assist other agencies</td>\n",
       "      <td>NaN</td>\n",
       "    </tr>\n",
       "    <tr>\n",
       "      <th>1</th>\n",
       "      <td>2091</td>\n",
       "      <td>2009-01-01</td>\n",
       "      <td>Fire</td>\n",
       "      <td>Secondary Fire</td>\n",
       "      <td>NaN</td>\n",
       "      <td>255.0</td>\n",
       "    </tr>\n",
       "    <tr>\n",
       "      <th>2</th>\n",
       "      <td>3091</td>\n",
       "      <td>2009-01-01</td>\n",
       "      <td>Fire</td>\n",
       "      <td>Secondary Fire</td>\n",
       "      <td>NaN</td>\n",
       "      <td>255.0</td>\n",
       "    </tr>\n",
       "    <tr>\n",
       "      <th>3</th>\n",
       "      <td>5091</td>\n",
       "      <td>2009-01-01</td>\n",
       "      <td>Fire</td>\n",
       "      <td>Secondary Fire</td>\n",
       "      <td>NaN</td>\n",
       "      <td>255.0</td>\n",
       "    </tr>\n",
       "    <tr>\n",
       "      <th>4</th>\n",
       "      <td>6091</td>\n",
       "      <td>2009-01-01</td>\n",
       "      <td>False Alarm</td>\n",
       "      <td>AFA</td>\n",
       "      <td>NaN</td>\n",
       "      <td>255.0</td>\n",
       "    </tr>\n",
       "  </tbody>\n",
       "</table>\n",
       "</div>"
      ],
      "text/plain": [
       "  IncidentNumber DateOfCall    IncidentGroup StopCodeDescription  \\\n",
       "0           1091 2009-01-01  Special Service     Special Service   \n",
       "1           2091 2009-01-01             Fire      Secondary Fire   \n",
       "2           3091 2009-01-01             Fire      Secondary Fire   \n",
       "3           5091 2009-01-01             Fire      Secondary Fire   \n",
       "4           6091 2009-01-01      False Alarm                 AFA   \n",
       "\n",
       "      SpecialServiceType  Notional Cost (£)  \n",
       "0  Assist other agencies                NaN  \n",
       "1                    NaN              255.0  \n",
       "2                    NaN              255.0  \n",
       "3                    NaN              255.0  \n",
       "4                    NaN              255.0  "
      ]
     },
     "execution_count": 7,
     "metadata": {},
     "output_type": "execute_result"
    }
   ],
   "source": [
    "# Create a new dataframe from incident_2020_2023 where it only has Fires from 2023\n",
    "filt_year = incident_2020_2023['DateOfCall'].dt.year == 2023\n",
    "incident_2023 = incident_2020_2023[filt_year]\n",
    "all_incidents = pd.concat([incident_2009_2022, incident_2023])\n",
    "\n",
    "# Convert DateOfCall to proper timestamp\n",
    "all_incidents[\"DateOfCall\"] = pd.to_datetime(all_incidents[\"DateOfCall\"], format=\"%d %b %Y\")\n",
    "\n",
    "all_incidents.head()"
   ]
  },
  {
   "cell_type": "markdown",
   "metadata": {},
   "source": [
    "For the Mobilisation data, we will be looking at the columns:\n",
    "* IncidentNumber\n",
    "* DateAndTimeMobilised\t\n",
    "* DateAndTimeMobile\t\n",
    "* DateAndTimeArrived\t\n",
    "* DateAndTimeLeft\n",
    "* DelayCode_Description"
   ]
  },
  {
   "cell_type": "code",
   "execution_count": 8,
   "metadata": {
    "execution": {
     "iopub.execute_input": "2025-02-22T14:08:14.058289Z",
     "iopub.status.busy": "2025-02-22T14:08:14.057591Z",
     "iopub.status.idle": "2025-02-22T14:08:52.197631Z",
     "shell.execute_reply": "2025-02-22T14:08:52.196569Z",
     "shell.execute_reply.started": "2025-02-22T14:08:14.058230Z"
    }
   },
   "outputs": [],
   "source": [
    "# Loading Mobilisation Data Files\n",
    "all_mobilisation = '/mnt/data/public/lfb/mobilisation/LFB Mobilisation data from January 2009 to August 2023.csv'\n",
    "all_mobilisation = pd.read_csv(all_mobilisation, dtype={\"235138081\": str, '01/01/2009 00:23:55':str})\n",
    "\n",
    "# Cleaning the files\n",
    "features = [all_mobilisation.columns[i] for i in [0, 6, 7, 8, 12, 21]]\n",
    "all_mobilisation = all_mobilisation[features]\n",
    "all_mobilisation.columns = ['IncidentNumber', 'DateAndTimeMobilised', 'DateAndTimeMobile', 'DateAndTimeArrived', 'DateAndTimeLeft', 'DelayCode_Description']\n",
    "\n",
    "# Converting the datetime columns into an actual datetime format\n",
    "datetime_columns = [\"DateAndTimeMobilised\", \"DateAndTimeMobile\", \"DateAndTimeArrived\", \"DateAndTimeLeft\"]\n",
    "all_mobilisation[datetime_columns] = all_mobilisation[datetime_columns].apply(\n",
    "    pd.to_datetime, format=\"%d/%m/%Y %H:%M:%S\", errors=\"coerce\")"
   ]
  },
  {
   "cell_type": "markdown",
   "metadata": {},
   "source": [
    "We will now join the ```london_incidents``` and ```london_mobilisation``` using the key-id of IncidentNumber."
   ]
  },
  {
   "cell_type": "code",
   "execution_count": 10,
   "metadata": {
    "execution": {
     "iopub.execute_input": "2025-02-22T14:09:00.657773Z",
     "iopub.status.busy": "2025-02-22T14:09:00.657104Z",
     "iopub.status.idle": "2025-02-22T14:09:00.677865Z",
     "shell.execute_reply": "2025-02-22T14:09:00.676698Z",
     "shell.execute_reply.started": "2025-02-22T14:09:00.657718Z"
    }
   },
   "outputs": [
    {
     "data": {
      "text/html": [
       "<div>\n",
       "<style scoped>\n",
       "    .dataframe tbody tr th:only-of-type {\n",
       "        vertical-align: middle;\n",
       "    }\n",
       "\n",
       "    .dataframe tbody tr th {\n",
       "        vertical-align: top;\n",
       "    }\n",
       "\n",
       "    .dataframe thead th {\n",
       "        text-align: right;\n",
       "    }\n",
       "</style>\n",
       "<table border=\"1\" class=\"dataframe\">\n",
       "  <thead>\n",
       "    <tr style=\"text-align: right;\">\n",
       "      <th></th>\n",
       "      <th>IncidentNumber</th>\n",
       "      <th>DateAndTimeMobilised</th>\n",
       "      <th>DateAndTimeMobile</th>\n",
       "      <th>DateAndTimeArrived</th>\n",
       "      <th>DateAndTimeLeft</th>\n",
       "      <th>DelayCode_Description</th>\n",
       "    </tr>\n",
       "  </thead>\n",
       "  <tbody>\n",
       "    <tr>\n",
       "      <th>0</th>\n",
       "      <td>235138081</td>\n",
       "      <td>2009-01-01 00:02:27</td>\n",
       "      <td>2009-01-01 00:06:40</td>\n",
       "      <td>2009-01-01 00:08:09</td>\n",
       "      <td>2009-01-01 00:12:17</td>\n",
       "      <td>NaN</td>\n",
       "    </tr>\n",
       "    <tr>\n",
       "      <th>1</th>\n",
       "      <td>2091</td>\n",
       "      <td>2009-01-01 00:04:09</td>\n",
       "      <td>2009-01-01 00:06:40</td>\n",
       "      <td>2009-01-01 00:09:17</td>\n",
       "      <td>2009-01-01 00:16:33</td>\n",
       "      <td>NaN</td>\n",
       "    </tr>\n",
       "    <tr>\n",
       "      <th>2</th>\n",
       "      <td>3091</td>\n",
       "      <td>2009-01-01 00:04:57</td>\n",
       "      <td>2009-01-01 00:06:45</td>\n",
       "      <td>2009-01-01 00:08:27</td>\n",
       "      <td>2009-01-01 00:20:38</td>\n",
       "      <td>NaN</td>\n",
       "    </tr>\n",
       "    <tr>\n",
       "      <th>3</th>\n",
       "      <td>5091</td>\n",
       "      <td>2009-01-01 00:06:04</td>\n",
       "      <td>2009-01-01 00:07:58</td>\n",
       "      <td>2009-01-01 00:09:57</td>\n",
       "      <td>2009-01-01 00:11:58</td>\n",
       "      <td>NaN</td>\n",
       "    </tr>\n",
       "    <tr>\n",
       "      <th>4</th>\n",
       "      <td>5091</td>\n",
       "      <td>2009-01-01 00:06:04</td>\n",
       "      <td>2009-01-01 00:08:26</td>\n",
       "      <td>2009-01-01 00:10:14</td>\n",
       "      <td>NaT</td>\n",
       "      <td>NaN</td>\n",
       "    </tr>\n",
       "  </tbody>\n",
       "</table>\n",
       "</div>"
      ],
      "text/plain": [
       "  IncidentNumber DateAndTimeMobilised   DateAndTimeMobile  DateAndTimeArrived  \\\n",
       "0      235138081  2009-01-01 00:02:27 2009-01-01 00:06:40 2009-01-01 00:08:09   \n",
       "1           2091  2009-01-01 00:04:09 2009-01-01 00:06:40 2009-01-01 00:09:17   \n",
       "2           3091  2009-01-01 00:04:57 2009-01-01 00:06:45 2009-01-01 00:08:27   \n",
       "3           5091  2009-01-01 00:06:04 2009-01-01 00:07:58 2009-01-01 00:09:57   \n",
       "4           5091  2009-01-01 00:06:04 2009-01-01 00:08:26 2009-01-01 00:10:14   \n",
       "\n",
       "      DateAndTimeLeft DelayCode_Description  \n",
       "0 2009-01-01 00:12:17                   NaN  \n",
       "1 2009-01-01 00:16:33                   NaN  \n",
       "2 2009-01-01 00:20:38                   NaN  \n",
       "3 2009-01-01 00:11:58                   NaN  \n",
       "4                 NaT                   NaN  "
      ]
     },
     "execution_count": 10,
     "metadata": {},
     "output_type": "execute_result"
    }
   ],
   "source": [
    "all_mobilisation.head()"
   ]
  },
  {
   "cell_type": "code",
   "execution_count": 11,
   "metadata": {
    "execution": {
     "iopub.execute_input": "2025-02-22T14:10:56.590228Z",
     "iopub.status.busy": "2025-02-22T14:10:56.589691Z",
     "iopub.status.idle": "2025-02-22T14:10:58.948750Z",
     "shell.execute_reply": "2025-02-22T14:10:58.947853Z",
     "shell.execute_reply.started": "2025-02-22T14:10:56.590187Z"
    }
   },
   "outputs": [
    {
     "data": {
      "text/html": [
       "<div>\n",
       "<style scoped>\n",
       "    .dataframe tbody tr th:only-of-type {\n",
       "        vertical-align: middle;\n",
       "    }\n",
       "\n",
       "    .dataframe tbody tr th {\n",
       "        vertical-align: top;\n",
       "    }\n",
       "\n",
       "    .dataframe thead th {\n",
       "        text-align: right;\n",
       "    }\n",
       "</style>\n",
       "<table border=\"1\" class=\"dataframe\">\n",
       "  <thead>\n",
       "    <tr style=\"text-align: right;\">\n",
       "      <th></th>\n",
       "      <th>IncidentNumber</th>\n",
       "      <th>DateOfCall</th>\n",
       "      <th>IncidentGroup</th>\n",
       "      <th>StopCodeDescription</th>\n",
       "      <th>SpecialServiceType</th>\n",
       "      <th>Notional Cost (£)</th>\n",
       "      <th>DateAndTimeMobilised</th>\n",
       "      <th>DateAndTimeMobile</th>\n",
       "      <th>DateAndTimeArrived</th>\n",
       "      <th>DateAndTimeLeft</th>\n",
       "      <th>DelayCode_Description</th>\n",
       "    </tr>\n",
       "  </thead>\n",
       "  <tbody>\n",
       "    <tr>\n",
       "      <th>0</th>\n",
       "      <td>2091</td>\n",
       "      <td>2009-01-01</td>\n",
       "      <td>Fire</td>\n",
       "      <td>Secondary Fire</td>\n",
       "      <td>NaN</td>\n",
       "      <td>255.0</td>\n",
       "      <td>2009-01-01 00:04:09</td>\n",
       "      <td>2009-01-01 00:06:40</td>\n",
       "      <td>2009-01-01 00:09:17</td>\n",
       "      <td>2009-01-01 00:16:33</td>\n",
       "      <td>NaN</td>\n",
       "    </tr>\n",
       "    <tr>\n",
       "      <th>1</th>\n",
       "      <td>3091</td>\n",
       "      <td>2009-01-01</td>\n",
       "      <td>Fire</td>\n",
       "      <td>Secondary Fire</td>\n",
       "      <td>NaN</td>\n",
       "      <td>255.0</td>\n",
       "      <td>2009-01-01 00:04:57</td>\n",
       "      <td>2009-01-01 00:06:45</td>\n",
       "      <td>2009-01-01 00:08:27</td>\n",
       "      <td>2009-01-01 00:20:38</td>\n",
       "      <td>NaN</td>\n",
       "    </tr>\n",
       "    <tr>\n",
       "      <th>2</th>\n",
       "      <td>5091</td>\n",
       "      <td>2009-01-01</td>\n",
       "      <td>Fire</td>\n",
       "      <td>Secondary Fire</td>\n",
       "      <td>NaN</td>\n",
       "      <td>255.0</td>\n",
       "      <td>2009-01-01 00:06:04</td>\n",
       "      <td>2009-01-01 00:07:58</td>\n",
       "      <td>2009-01-01 00:09:57</td>\n",
       "      <td>2009-01-01 00:11:58</td>\n",
       "      <td>NaN</td>\n",
       "    </tr>\n",
       "    <tr>\n",
       "      <th>3</th>\n",
       "      <td>5091</td>\n",
       "      <td>2009-01-01</td>\n",
       "      <td>Fire</td>\n",
       "      <td>Secondary Fire</td>\n",
       "      <td>NaN</td>\n",
       "      <td>255.0</td>\n",
       "      <td>2009-01-01 00:06:04</td>\n",
       "      <td>2009-01-01 00:08:26</td>\n",
       "      <td>2009-01-01 00:10:14</td>\n",
       "      <td>NaT</td>\n",
       "      <td>NaN</td>\n",
       "    </tr>\n",
       "    <tr>\n",
       "      <th>4</th>\n",
       "      <td>6091</td>\n",
       "      <td>2009-01-01</td>\n",
       "      <td>False Alarm</td>\n",
       "      <td>AFA</td>\n",
       "      <td>NaN</td>\n",
       "      <td>255.0</td>\n",
       "      <td>2009-01-01 00:06:30</td>\n",
       "      <td>2009-01-01 00:07:53</td>\n",
       "      <td>2009-01-01 00:09:22</td>\n",
       "      <td>2009-01-01 00:15:57</td>\n",
       "      <td>NaN</td>\n",
       "    </tr>\n",
       "  </tbody>\n",
       "</table>\n",
       "</div>"
      ],
      "text/plain": [
       "  IncidentNumber DateOfCall IncidentGroup StopCodeDescription  \\\n",
       "0           2091 2009-01-01          Fire      Secondary Fire   \n",
       "1           3091 2009-01-01          Fire      Secondary Fire   \n",
       "2           5091 2009-01-01          Fire      Secondary Fire   \n",
       "3           5091 2009-01-01          Fire      Secondary Fire   \n",
       "4           6091 2009-01-01   False Alarm                 AFA   \n",
       "\n",
       "  SpecialServiceType  Notional Cost (£) DateAndTimeMobilised  \\\n",
       "0                NaN              255.0  2009-01-01 00:04:09   \n",
       "1                NaN              255.0  2009-01-01 00:04:57   \n",
       "2                NaN              255.0  2009-01-01 00:06:04   \n",
       "3                NaN              255.0  2009-01-01 00:06:04   \n",
       "4                NaN              255.0  2009-01-01 00:06:30   \n",
       "\n",
       "    DateAndTimeMobile  DateAndTimeArrived     DateAndTimeLeft  \\\n",
       "0 2009-01-01 00:06:40 2009-01-01 00:09:17 2009-01-01 00:16:33   \n",
       "1 2009-01-01 00:06:45 2009-01-01 00:08:27 2009-01-01 00:20:38   \n",
       "2 2009-01-01 00:07:58 2009-01-01 00:09:57 2009-01-01 00:11:58   \n",
       "3 2009-01-01 00:08:26 2009-01-01 00:10:14                 NaT   \n",
       "4 2009-01-01 00:07:53 2009-01-01 00:09:22 2009-01-01 00:15:57   \n",
       "\n",
       "  DelayCode_Description  \n",
       "0                   NaN  \n",
       "1                   NaN  \n",
       "2                   NaN  \n",
       "3                   NaN  \n",
       "4                   NaN  "
      ]
     },
     "execution_count": 11,
     "metadata": {},
     "output_type": "execute_result"
    }
   ],
   "source": [
    "london_fires = pd.merge(all_incidents, all_mobilisation, on=\"IncidentNumber\", how=\"inner\")\n",
    "london_fires.head()"
   ]
  },
  {
   "cell_type": "code",
   "execution_count": 14,
   "metadata": {
    "execution": {
     "iopub.execute_input": "2025-02-22T14:12:01.615378Z",
     "iopub.status.busy": "2025-02-22T14:12:01.614703Z",
     "iopub.status.idle": "2025-02-22T14:12:02.059358Z",
     "shell.execute_reply": "2025-02-22T14:12:02.057789Z",
     "shell.execute_reply.started": "2025-02-22T14:12:01.615321Z"
    }
   },
   "outputs": [],
   "source": [
    "filt = london_fires['IncidentGroup'] == 'Fire'\n",
    "london_fires = london_fires[filt]"
   ]
  },
  {
   "cell_type": "code",
   "execution_count": 25,
   "metadata": {
    "execution": {
     "iopub.execute_input": "2025-02-22T14:15:59.263236Z",
     "iopub.status.busy": "2025-02-22T14:15:59.262496Z",
     "iopub.status.idle": "2025-02-22T14:15:59.358661Z",
     "shell.execute_reply": "2025-02-22T14:15:59.357431Z",
     "shell.execute_reply.started": "2025-02-22T14:15:59.263171Z"
    }
   },
   "outputs": [],
   "source": [
    "london_fires['LENGTH_CONTAINED'] = london_fires['DateAndTimeLeft'] - london_fires['DateAndTimeMobilised']\n",
    "london_fires[\"LENGTH_HOURS\"] = london_fires[\"LENGTH_CONTAINED\"].dt.total_seconds() / 3600  "
   ]
  },
  {
   "cell_type": "code",
   "execution_count": 31,
   "metadata": {
    "execution": {
     "iopub.execute_input": "2025-02-22T14:17:35.249481Z",
     "iopub.status.busy": "2025-02-22T14:17:35.248717Z",
     "iopub.status.idle": "2025-02-22T14:17:35.367728Z",
     "shell.execute_reply": "2025-02-22T14:17:35.366675Z",
     "shell.execute_reply.started": "2025-02-22T14:17:35.249420Z"
    }
   },
   "outputs": [
    {
     "name": "stdout",
     "output_type": "stream",
     "text": [
      "count    2.190138e+06\n",
      "mean     3.917344e-01\n",
      "std      4.606227e-01\n",
      "min      1.111111e-03\n",
      "25%      1.794444e-01\n",
      "50%      2.583333e-01\n",
      "75%      4.100000e-01\n",
      "max      3.532167e+01\n",
      "Name: LENGTH_HOURS, dtype: float64\n"
     ]
    }
   ],
   "source": [
    "print(london_fires['LENGTH_HOURS'].describe())"
   ]
  },
  {
   "cell_type": "code",
   "execution_count": 33,
   "metadata": {
    "execution": {
     "iopub.execute_input": "2025-02-22T14:18:41.760576Z",
     "iopub.status.busy": "2025-02-22T14:18:41.759891Z",
     "iopub.status.idle": "2025-02-22T14:31:07.629660Z",
     "shell.execute_reply": "2025-02-22T14:31:07.628477Z",
     "shell.execute_reply.started": "2025-02-22T14:18:41.760516Z"
    }
   },
   "outputs": [
    {
     "data": {
      "text/plain": [
       "<Axes: xlabel='Notional Cost (£)', ylabel='Count'>"
      ]
     },
     "execution_count": 33,
     "metadata": {},
     "output_type": "execute_result"
    },
    {
     "data": {
      "image/png": "[encoded data removed]",
      "text/plain": [
       "<Figure size 640x480 with 1 Axes>"
      ]
     },
     "metadata": {},
     "output_type": "display_data"
    }
   ],
   "source": [
    "sns.histplot(london_fires['Notional Cost (£)'])"
   ]
  },
  {
   "cell_type": "code",
   "execution_count": 35,
   "metadata": {
    "execution": {
     "iopub.execute_input": "2025-02-22T14:33:07.791450Z",
     "iopub.status.busy": "2025-02-22T14:33:07.790720Z",
     "iopub.status.idle": "2025-02-22T14:33:07.886017Z",
     "shell.execute_reply": "2025-02-22T14:33:07.885181Z",
     "shell.execute_reply.started": "2025-02-22T14:33:07.791393Z"
    }
   },
   "outputs": [
    {
     "data": {
      "text/plain": [
       "count    2.236128e+06\n",
       "mean     4.813058e+02\n",
       "std      2.206916e+03\n",
       "min      2.550000e+02\n",
       "25%      2.900000e+02\n",
       "50%      3.280000e+02\n",
       "75%      3.640000e+02\n",
       "max      7.094640e+05\n",
       "Name: Notional Cost (£), dtype: float64"
      ]
     },
     "execution_count": 35,
     "metadata": {},
     "output_type": "execute_result"
    }
   ],
   "source": [
    "london_fires['Notional Cost (£)'].describe()"
   ]
  },
  {
   "cell_type": "code",
   "execution_count": 46,
   "metadata": {
    "execution": {
     "iopub.execute_input": "2025-02-22T14:35:57.266137Z",
     "iopub.status.busy": "2025-02-22T14:35:57.265429Z",
     "iopub.status.idle": "2025-02-22T14:35:57.521560Z",
     "shell.execute_reply": "2025-02-22T14:35:57.521019Z",
     "shell.execute_reply.started": "2025-02-22T14:35:57.266078Z"
    }
   },
   "outputs": [],
   "source": [
    "cost = london_fires[london_fires['Notional Cost (£)'] < 600]"
   ]
  }
 ],
 "metadata": {
  "kernelspec": {
   "display_name": "Python [conda env:base] *",
   "language": "python",
   "name": "conda-base-py"
  },
  "language_info": {
   "codemirror_mode": {
    "name": "ipython",
    "version": 3
   },
   "file_extension": ".py",
   "mimetype": "text/x-python",
   "name": "python",
   "nbconvert_exporter": "python",
   "pygments_lexer": "ipython3",
   "version": "3.12.8"
  }
 },
 "nbformat": 4,
 "nbformat_minor": 4
}
